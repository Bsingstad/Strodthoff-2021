{
 "cells": [
  {
   "cell_type": "code",
   "execution_count": null,
   "id": "12a7e1a6-3e27-41b8-b16f-da7475e69935",
   "metadata": {
    "colab": {
     "base_uri": "https://localhost:8080/"
    },
    "id": "12a7e1a6-3e27-41b8-b16f-da7475e69935",
    "outputId": "e7ea69a2-70fb-444a-9d9b-2b962c56ef12"
   },
   "outputs": [],
   "source": [
    "!pip install wget wfdb tensorflow-addons"
   ]
  },
  {
   "cell_type": "code",
   "execution_count": null,
   "id": "JXL0zlq8Wdpl",
   "metadata": {
    "id": "JXL0zlq8Wdpl"
   },
   "outputs": [],
   "source": [
    "from google.colab import drive\n",
    "drive.mount('/content/drive')"
   ]
  },
  {
   "cell_type": "code",
   "execution_count": 2,
   "id": "3d6d4835-aec8-4e68-aba8-7b71a1e3f319",
   "metadata": {
    "id": "3d6d4835-aec8-4e68-aba8-7b71a1e3f319"
   },
   "outputs": [],
   "source": [
    "import wget\n",
    "import numpy as np\n",
    "import os\n",
    "import zipfile\n",
    "import tensorflow as tf\n",
    "from sklearn.utils.class_weight import compute_class_weight\n",
    "import pandas as pd\n",
    "import seaborn as sns\n",
    "from sklearn.metrics import confusion_matrix\n",
    "import tensorflow_addons as tfa"
   ]
  },
  {
   "cell_type": "code",
   "execution_count": 3,
   "id": "181ee1f6-3777-4aba-be5d-db810af7b5bc",
   "metadata": {
    "id": "181ee1f6-3777-4aba-be5d-db810af7b5bc"
   },
   "outputs": [],
   "source": [
    "%matplotlib inline\n",
    "%load_ext autoreload"
   ]
  },
  {
   "cell_type": "code",
   "execution_count": null,
   "id": "T0cGBrFsdJFb",
   "metadata": {
    "colab": {
     "base_uri": "https://localhost:8080/"
    },
    "id": "T0cGBrFsdJFb",
    "outputId": "21ff2faf-7c26-45d3-f422-302521d7d752"
   },
   "outputs": [],
   "source": [
    "!wget https://physionet.org/static/published-projects/ptb-xl/ptb-xl-a-large-publicly-available-electrocardiography-dataset-1.0.1.zip\n",
    "\n",
    "os.mkdir(\"./data/\")\n",
    "\n",
    "\n",
    "with zipfile.ZipFile(\"./ptb-xl-a-large-publicly-available-electrocardiography-dataset-1.0.1.zip\", 'r') as zip_ref:\n",
    "    zip_ref.extractall(\"./data/\")"
   ]
  },
  {
   "cell_type": "code",
   "execution_count": 5,
   "id": "ICe12Y7yxFKg",
   "metadata": {
    "id": "ICe12Y7yxFKg"
   },
   "outputs": [],
   "source": [
    "with zipfile.ZipFile(\"./ptb-xl-a-large-publicly-available-electrocardiography-dataset-1.0.1.zip\", 'r') as zip_ref:\n",
    "    zip_ref.extractall(\"./data/\")"
   ]
  },
  {
   "cell_type": "code",
   "execution_count": null,
   "id": "V-j1oLL4Li10",
   "metadata": {
    "colab": {
     "base_uri": "https://localhost:8080/"
    },
    "id": "V-j1oLL4Li10",
    "outputId": "e3432168-e2f3-422e-a5c0-e5c9b5f6c3e1"
   },
   "outputs": [],
   "source": [
    "!pip install GitPython\n",
    "from git import Repo"
   ]
  },
  {
   "cell_type": "code",
   "execution_count": 7,
   "id": "aLEwloYTLpue",
   "metadata": {
    "id": "aLEwloYTLpue"
   },
   "outputs": [],
   "source": [
    "HTTPS_REMOTE_URL = 'https://github.com/Bsingstad/ecg_ptbxl_benchmarking.git'\n",
    "DEST_NAME = 'github_repo'"
   ]
  },
  {
   "cell_type": "code",
   "execution_count": null,
   "id": "wrApvEoJLPYq",
   "metadata": {
    "colab": {
     "base_uri": "https://localhost:8080/"
    },
    "id": "wrApvEoJLPYq",
    "outputId": "b9336107-9b65-4860-e7b0-8a7ba5559685"
   },
   "outputs": [],
   "source": [
    "Repo.clone_from(HTTPS_REMOTE_URL, DEST_NAME)"
   ]
  },
  {
   "cell_type": "code",
   "execution_count": 9,
   "id": "5bf67a99-cd41-4f22-aba1-fd73ec880689",
   "metadata": {
    "colab": {
     "base_uri": "https://localhost:8080/"
    },
    "id": "5bf67a99-cd41-4f22-aba1-fd73ec880689",
    "outputId": "00f6632b-41af-46ad-bd53-7a246374639f"
   },
   "outputs": [
    {
     "data": {
      "text/plain": [
       "['example_physionet.py',\n",
       " 'scp_statements.csv',\n",
       " 'records100',\n",
       " 'RECORDS',\n",
       " 'LICENSE.txt',\n",
       " 'ptbxl_database.csv',\n",
       " 'records500',\n",
       " 'SHA256SUMS.txt']"
      ]
     },
     "execution_count": 9,
     "metadata": {},
     "output_type": "execute_result"
    }
   ],
   "source": [
    "os.listdir(\"./data/ptb-xl-a-large-publicly-available-electrocardiography-dataset-1.0.1/\")"
   ]
  },
  {
   "cell_type": "code",
   "execution_count": null,
   "id": "fRteqX8GY5Nw",
   "metadata": {
    "colab": {
     "base_uri": "https://localhost:8080/"
    },
    "id": "fRteqX8GY5Nw",
    "outputId": "1725f25e-f9b3-48c5-ca99-ce226db5fc3f"
   },
   "outputs": [],
   "source": [
    "!pip install git+https://github.com/Bsingstad/fastai.git"
   ]
  },
  {
   "cell_type": "code",
   "execution_count": 11,
   "id": "EpL88UONKFJz",
   "metadata": {
    "id": "EpL88UONKFJz"
   },
   "outputs": [],
   "source": [
    "import fastai"
   ]
  },
  {
   "cell_type": "code",
   "execution_count": 12,
   "id": "IpjW6eVLMGJQ",
   "metadata": {
    "id": "IpjW6eVLMGJQ"
   },
   "outputs": [],
   "source": [
    "from github_repo.code import *"
   ]
  },
  {
   "cell_type": "code",
   "execution_count": 13,
   "id": "xDIdqSZiIdZr",
   "metadata": {
    "id": "xDIdqSZiIdZr"
   },
   "outputs": [],
   "source": [
    "from IPython.display import clear_output, display, HTML"
   ]
  },
  {
   "cell_type": "code",
   "execution_count": 14,
   "id": "Q8fTH7i-v8SY",
   "metadata": {
    "id": "Q8fTH7i-v8SY"
   },
   "outputs": [],
   "source": [
    "os.mkdir('../../content/drive/MyDrive/PTB-xl-output/')"
   ]
  },
  {
   "cell_type": "code",
   "execution_count": null,
   "id": "48KVqw_QMq2H",
   "metadata": {
    "colab": {
     "base_uri": "https://localhost:8080/"
    },
    "id": "48KVqw_QMq2H",
    "outputId": "121ff7f7-4466-4b20-a65b-d94ea67dd04f"
   },
   "outputs": [],
   "source": [
    "!python /content/github_repo/code/reproduce_results.py '../../content/data/ptb-xl-a-large-publicly-available-electrocardiography-dataset-1.0.1/' '../data/ICBEB/' '../../content/drive/MyDrive/PTB-xl-output/'"
   ]
  }
 ],
 "metadata": {
  "accelerator": "GPU",
  "colab": {
   "machine_shape": "hm",
   "name": "MI_detection_PTB-XL.ipynb",
   "provenance": []
  },
  "environment": {
   "kernel": "python3",
   "name": "tf2-gpu.2-8.m93",
   "type": "gcloud",
   "uri": "gcr.io/deeplearning-platform-release/tf2-gpu.2-8:m93"
  },
  "gpuClass": "standard",
  "kernelspec": {
   "display_name": "Python 3 (ipykernel)",
   "language": "python",
   "name": "python3"
  },
  "language_info": {
   "codemirror_mode": {
    "name": "ipython",
    "version": 3
   },
   "file_extension": ".py",
   "mimetype": "text/x-python",
   "name": "python",
   "nbconvert_exporter": "python",
   "pygments_lexer": "ipython3",
   "version": "3.7.12"
  }
 },
 "nbformat": 4,
 "nbformat_minor": 5
}
